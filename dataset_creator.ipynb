{
 "cells": [
  {
   "cell_type": "code",
   "execution_count": 2,
   "metadata": {},
   "outputs": [],
   "source": [
    "import pandas as pd\n",
    "import os\n",
    "\n",
    "#Reading the keypoints \n",
    "df = pd.read_csv('./keypoints.csv')\n",
    "\n",
    "#Setting up the paths of the folders containing the images related to each keypoint so we can label them\n",
    "dataset_path = './'\n",
    "knee_path = os.path.join(dataset_path, './knee')\n",
    "jeb_path = os.path.join(dataset_path, './jeb')\n",
    "cross_path = os.path.join(dataset_path, './cross')\n",
    "nomovement_path = os.path.join(dataset_path , './no_movement')\n",
    "\n",
    "\n",
    "#Specifing the labels of each image based on the folder it is contained \n",
    "def get_label(image_name, knee_path, jeb_path, cross_path, nomovement_path):\n",
    "    if image_name in os.listdir(knee_path):\n",
    "        return 'knee'\n",
    "    elif image_name in os.listdir(jeb_path):\n",
    "        return 'jeb'\n",
    "    elif image_name in os.listdir(cross_path):\n",
    "        return 'cross'\n",
    "    elif image_name in os.listdir(nomovement_path):\n",
    "        return 'no_movement'\n",
    "    else:\n",
    "        return None  # If we cant find the image on the folders\n",
    "\n",
    "# Add label column to our csv file and creating the dataset \n",
    "df['label'] = df['image_name'].apply(lambda x: get_label(x, knee_path, jeb_path, cross_path, nomovement_path))\n",
    "df.dropna(inplace=True)\n",
    "df.reset_index(inplace=True)\n",
    "df.drop('index', axis='columns', inplace=True)\n",
    "#df.to_csv(f'{dataset_path}dataset.csv', index=False)"
   ]
  },
  {
   "cell_type": "code",
   "execution_count": 3,
   "metadata": {},
   "outputs": [
    {
     "data": {
      "text/plain": [
       "<seaborn.axisgrid.FacetGrid at 0x7f4b505b3290>"
      ]
     },
     "execution_count": 3,
     "metadata": {},
     "output_type": "execute_result"
    },
    {
     "data": {
      "image/png": "[encoded data removed]",
      "text/plain": [
       "<Figure size 500x500 with 1 Axes>"
      ]
     },
     "metadata": {},
     "output_type": "display_data"
    }
   ],
   "source": [
    "import seaborn as sns\n",
    "\n",
    "sns.catplot(df, x='label', kind='count')"
   ]
  },
  {
   "cell_type": "code",
   "execution_count": null,
   "metadata": {},
   "outputs": [],
   "source": []
  }
 ],
 "metadata": {
  "kernelspec": {
   "display_name": "data",
   "language": "python",
   "name": "python3"
  },
  "language_info": {
   "codemirror_mode": {
    "name": "ipython",
    "version": 3
   },
   "file_extension": ".py",
   "mimetype": "text/x-python",
   "name": "python",
   "nbconvert_exporter": "python",
   "pygments_lexer": "ipython3",
   "version": "3.11.4"
  }
 },
 "nbformat": 4,
 "nbformat_minor": 2
}
